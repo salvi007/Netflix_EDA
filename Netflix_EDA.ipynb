{
  "nbformat": 4,
  "nbformat_minor": 0,
  "metadata": {
    "colab": {
      "provenance": [],
      "include_colab_link": true
    },
    "kernelspec": {
      "name": "python3",
      "display_name": "Python 3"
    },
    "language_info": {
      "name": "python"
    }
  },
  "cells": [
    {
      "cell_type": "markdown",
      "metadata": {
        "id": "view-in-github",
        "colab_type": "text"
      },
      "source": [
        "<a href=\"https://colab.research.google.com/github/salvi007/Netflix_EDA/blob/main/Netflix_EDA.ipynb\" target=\"_parent\"><img src=\"https://colab.research.google.com/assets/colab-badge.svg\" alt=\"Open In Colab\"/></a>"
      ]
    },
    {
      "cell_type": "code",
      "execution_count": null,
      "metadata": {
        "id": "ed6hiY583_2E"
      },
      "outputs": [],
      "source": [
        "import numpy as np  #import libraries\n",
        "import pandas as pd\n",
        "\n",
        "import matplotlib.pyplot as plt\n",
        "import seaborn as sns"
      ]
    },
    {
      "cell_type": "code",
      "source": [
        "df=pd.read_csv(\"netflix.csv\")   #import the csv file"
      ],
      "metadata": {
        "id": "LHbq6E-L4Tyt"
      },
      "execution_count": null,
      "outputs": []
    },
    {
      "cell_type": "code",
      "source": [
        "df.head()   #displaying first 5 rows of dataframe"
      ],
      "metadata": {
        "id": "f0BLbc-L4dwS"
      },
      "execution_count": null,
      "outputs": []
    },
    {
      "cell_type": "code",
      "source": [
        "df.info()   #displaying data types"
      ],
      "metadata": {
        "id": "iKax5DMk4elp"
      },
      "execution_count": null,
      "outputs": []
    },
    {
      "cell_type": "code",
      "source": [
        "df[\"country\"].isna().sum()  #sum of null values"
      ],
      "metadata": {
        "id": "plxcWJdmbBnq"
      },
      "execution_count": null,
      "outputs": []
    },
    {
      "cell_type": "markdown",
      "source": [
        "# Data Cleaning"
      ],
      "metadata": {
        "id": "zQ4Yj7uAry3k"
      }
    },
    {
      "cell_type": "code",
      "source": [
        "df['director']=df['director'].fillna('unknown director')   #replacing null values with \"Unknown director\"\n",
        "df['cast']=df['cast'].fillna('unknown cast')\n",
        "df['country']=df['country'].fillna(df['country'].mode()[0])  #replacing null values with max no. of occuring country\n",
        "df['date_added']=df['date_added'].fillna(df['date_added'].mode()[0])  #replacing null values with max no. of occuring date\n",
        "\n",
        "df['rating']=df['rating'].fillna(df['rating'].mode()[0])\n",
        "df['duration']=df['duration'].fillna(0)\n"
      ],
      "metadata": {
        "id": "FoLJ3IS4bbqZ"
      },
      "execution_count": null,
      "outputs": []
    },
    {
      "cell_type": "code",
      "source": [
        "df.isna().sum()"
      ],
      "metadata": {
        "id": "B8nHY-1rb4na"
      },
      "execution_count": null,
      "outputs": []
    },
    {
      "cell_type": "code",
      "source": [
        "df.head()"
      ],
      "metadata": {
        "id": "A17sLQe0b8Yb"
      },
      "execution_count": null,
      "outputs": []
    },
    {
      "cell_type": "code",
      "source": [
        "df.loc[df[\"country\"].apply(lambda country : ', ' in str(country))]"
      ],
      "metadata": {
        "id": "uIGQpfG14gIo"
      },
      "execution_count": null,
      "outputs": []
    },
    {
      "cell_type": "code",
      "source": [
        "small_df=df[[\"title\",\"cast\",\"country\",\"listed_in\"]]\n",
        "small_df"
      ],
      "metadata": {
        "id": "gBEbsCm74zvo"
      },
      "execution_count": null,
      "outputs": []
    },
    {
      "cell_type": "code",
      "source": [
        "small_df[\"cast_split\"]=small_df[\"cast\"].apply(lambda x: str(x).split(', '))\n",
        "small_df[\"country_split\"]=small_df[\"country\"].apply(lambda x: str(x).split(', '))\n",
        "small_df[\"listed_in_split\"]=small_df[\"listed_in\"].apply(lambda x: str(x).split(', '))\n",
        "small_df"
      ],
      "metadata": {
        "id": "Lmczn3nL5IIZ"
      },
      "execution_count": null,
      "outputs": []
    },
    {
      "cell_type": "code",
      "source": [
        "small_df=small_df.explode('cast_split')\n",
        "small_df=small_df.explode('country_split')\n",
        "small_df=small_df.explode('listed_in_split')\n",
        "small_df"
      ],
      "metadata": {
        "id": "_yiVrrXh5XK-"
      },
      "execution_count": null,
      "outputs": []
    },
    {
      "cell_type": "code",
      "source": [
        "df=df.merge(small_df,on=\"title\")\n",
        "\n",
        "df"
      ],
      "metadata": {
        "id": "WxoxWCex5hRS"
      },
      "execution_count": null,
      "outputs": []
    },
    {
      "cell_type": "code",
      "source": [
        "df.drop(columns=[\"cast_x\",\"cast_y\",\"country_y\",\"country_x\",\"listed_in_y\",\"listed_in_x\"],inplace=True)\n",
        "df.head()"
      ],
      "metadata": {
        "id": "4xfCe5ym5mqM"
      },
      "execution_count": null,
      "outputs": []
    },
    {
      "cell_type": "code",
      "source": [
        "df.dtypes    #checking data types"
      ],
      "metadata": {
        "id": "eoDTnpo15-x5"
      },
      "execution_count": null,
      "outputs": []
    },
    {
      "cell_type": "code",
      "source": [
        "df[\"date_added\"]=pd.to_datetime(df[\"date_added\"])"
      ],
      "metadata": {
        "id": "1CfcIpvG6yXE"
      },
      "execution_count": null,
      "outputs": []
    },
    {
      "cell_type": "code",
      "source": [
        "df.head()"
      ],
      "metadata": {
        "id": "hQ6CyjyY7N3M"
      },
      "execution_count": null,
      "outputs": []
    },
    {
      "cell_type": "code",
      "source": [
        "df.isna().head(20)   #identifying null values"
      ],
      "metadata": {
        "id": "o7x2RRTe_ljx"
      },
      "execution_count": null,
      "outputs": []
    },
    {
      "cell_type": "code",
      "source": [
        "df.isna().sum()"
      ],
      "metadata": {
        "id": "JEQB_j3bGYxi"
      },
      "execution_count": null,
      "outputs": []
    },
    {
      "cell_type": "code",
      "source": [
        "df.shape"
      ],
      "metadata": {
        "id": "9cfPHzLOLCe6"
      },
      "execution_count": null,
      "outputs": []
    },
    {
      "cell_type": "code",
      "source": [
        "df"
      ],
      "metadata": {
        "id": "C99W-Y2EnyKr"
      },
      "execution_count": null,
      "outputs": []
    },
    {
      "cell_type": "code",
      "source": [
        "#Q1. Find the counts of each categorical variable both using graphical and nongraphical analysis.\n",
        "#a. For Non-graphical Analysis:\n",
        "df[\"type\"].value_counts()\n",
        "\n"
      ],
      "metadata": {
        "id": "adjbw0zU-Ywf"
      },
      "execution_count": null,
      "outputs": []
    },
    {
      "cell_type": "code",
      "source": [
        "plt.figure(figsize=(5,5))\n",
        "\n",
        "sns.countplot(data=df,x=\"type\")\n",
        "plt.title(\"Movies vs TV shows\")\n",
        "plt.show()"
      ],
      "metadata": {
        "id": "Fb6uE-JH_hWy"
      },
      "execution_count": null,
      "outputs": []
    },
    {
      "cell_type": "markdown",
      "source": [
        "Insight\n",
        "\n",
        "Probably 7 out 10 peoples prefer to watch Movies rather than TV Show\n"
      ],
      "metadata": {
        "id": "zfRr4KbWrEFD"
      }
    },
    {
      "cell_type": "code",
      "source": [
        "df[\"rating\"].value_counts()\n"
      ],
      "metadata": {
        "id": "46zFWmdCj3kH"
      },
      "execution_count": null,
      "outputs": []
    },
    {
      "cell_type": "code",
      "source": [
        "plt.figure(figsize = (5,5))\n",
        "sns.countplot(data=df,y=\"rating\")\n",
        "plt.xticks(rotation=90,fontsize=10)\n",
        "\n",
        "plt.show()"
      ],
      "metadata": {
        "id": "Jv5qMXKOp5bP"
      },
      "execution_count": null,
      "outputs": []
    },
    {
      "cell_type": "markdown",
      "source": [
        "# Insight - Most no. of rating given is TV-MA which is 67695 and least given is 66 min,74 min,84 min which is 1 each"
      ],
      "metadata": {
        "id": "5RdpvxgbuV1m"
      }
    },
    {
      "cell_type": "code",
      "source": [
        "df.groupby(\"country_split\")['show_id'].nunique().sort_values(ascending=False)"
      ],
      "metadata": {
        "id": "kKKgEjpjspKJ"
      },
      "execution_count": null,
      "outputs": []
    },
    {
      "cell_type": "code",
      "source": [
        "df_new=df[[\"country_split\",\"show_id\"]].drop_duplicates()  #removing duplicates from the df\n",
        "df_new"
      ],
      "metadata": {
        "id": "OaP0rcdH5h14"
      },
      "execution_count": null,
      "outputs": []
    },
    {
      "cell_type": "code",
      "source": [
        "plt.figure(figsize = (20,15))\n",
        "sns.countplot(data=df_new,y=\"country_split\")\n",
        "plt.xticks(rotation=90,fontsize=10)\n",
        "\n",
        "plt.show()"
      ],
      "metadata": {
        "id": "SCnhWsAfsxOk"
      },
      "execution_count": null,
      "outputs": []
    },
    {
      "cell_type": "markdown",
      "source": [
        "## Insight- US produces the maximum no of content whereas India takes the second position in producing content"
      ],
      "metadata": {
        "id": "_bJdbX3HwyGA"
      }
    },
    {
      "cell_type": "code",
      "source": [
        "\n",
        "df.groupby(\"listed_in_split\")['show_id'].nunique().sort_values(ascending=False)"
      ],
      "metadata": {
        "id": "5v6rZzBQs2VQ"
      },
      "execution_count": null,
      "outputs": []
    },
    {
      "cell_type": "code",
      "source": [
        "df_new=df[[\"listed_in_split\",\"show_id\"]].drop_duplicates()\n",
        "df_new"
      ],
      "metadata": {
        "id": "-OLNOm0qNhuz"
      },
      "execution_count": null,
      "outputs": []
    },
    {
      "cell_type": "code",
      "source": [
        "plt.figure(figsize = (5,7))\n",
        "sns.countplot(data=df_new,y=\"listed_in_split\")\n",
        "plt.xticks(rotation=90,fontsize=10)\n",
        "\n",
        "plt.show()"
      ],
      "metadata": {
        "id": "aOJe8Caks83o"
      },
      "execution_count": null,
      "outputs": []
    },
    {
      "cell_type": "markdown",
      "source": [
        "## Insight-Netflix contains most no. of  genre as \"International movies\" and  the least no. of genre as \"TV Shows\""
      ],
      "metadata": {
        "id": "K8tEWcR9xXBB"
      }
    },
    {
      "cell_type": "code",
      "source": [
        "#Q 2.Comparison of tv shows vs. movies\n",
        "#1.Find the number of movies produced in each country and pick the top 10 countries"
      ],
      "metadata": {
        "id": "ZyxrJZI6XMl_"
      },
      "execution_count": null,
      "outputs": []
    },
    {
      "cell_type": "code",
      "source": [
        "df.head()"
      ],
      "metadata": {
        "id": "C_0BTj1kw1UU"
      },
      "execution_count": null,
      "outputs": []
    },
    {
      "cell_type": "code",
      "source": [
        "df1=df.loc[df[\"type\"]==\"Movie\"]\n",
        "df1.head()"
      ],
      "metadata": {
        "id": "LmzcUos6yyXY"
      },
      "execution_count": null,
      "outputs": []
    },
    {
      "cell_type": "code",
      "source": [
        "df1.groupby(\"country_split\")['title'].nunique().sort_values(ascending=False).reset_index().head(10)"
      ],
      "metadata": {
        "id": "-GWZ5W_9w2e0"
      },
      "execution_count": null,
      "outputs": []
    },
    {
      "cell_type": "code",
      "source": [
        "plt.figure(figsize = (9,6))\n",
        "sns.countplot(y='country_split', order=df1['country_split'].value_counts().index[0:10],data=df1)\n",
        "plt.title('Top 10 countries producing movies in Netflix')"
      ],
      "metadata": {
        "id": "VsC-8hi397lP"
      },
      "execution_count": null,
      "outputs": []
    },
    {
      "cell_type": "markdown",
      "source": [
        "## Insight-US being the top country which has produced max. no. of movies and content of china is the least"
      ],
      "metadata": {
        "id": "N0H_LH6q1dYr"
      }
    },
    {
      "cell_type": "code",
      "source": [
        "#b. Find the number of Tv-Shows produced in each country and pick the top 10 countries\n",
        "\n",
        "df2=df.loc[df[\"type\"]==\"TV Show\"]\n",
        "df2.head()"
      ],
      "metadata": {
        "id": "qtHevcRhxLG9"
      },
      "execution_count": null,
      "outputs": []
    },
    {
      "cell_type": "code",
      "source": [
        "df2.groupby(\"country_split\")['title'].nunique().sort_values(ascending=False).reset_index().head(10)"
      ],
      "metadata": {
        "id": "ho2PtaTbziBh"
      },
      "execution_count": null,
      "outputs": []
    },
    {
      "cell_type": "code",
      "source": [
        "plt.figure(figsize = (9,6))\n",
        "sns.countplot(y='country_split', order=df['country_split'].value_counts().index[0:10],data=df2)\n",
        "plt.title('Top 10 countries producing TV shows in Netflix')"
      ],
      "metadata": {
        "id": "uNqf8H3X-efs"
      },
      "execution_count": null,
      "outputs": []
    },
    {
      "cell_type": "markdown",
      "source": [
        "## Insights- In Terms of TV shows, US has produced the max no. of TV shows ."
      ],
      "metadata": {
        "id": "R1vkRq_M1yMf"
      }
    },
    {
      "cell_type": "code",
      "source": [
        "#3. What is the best time to launch a TV show?\n",
        "#a. Find which is the best week to release the Tv-show or the movie. Do the analysis separately for Tv-shows and Movies\n",
        "df[\"week\"]=df[\"date_added\"].dt.week\n",
        "df.head(2)\n"
      ],
      "metadata": {
        "id": "P4iHxWAqzsiK"
      },
      "execution_count": null,
      "outputs": []
    },
    {
      "cell_type": "code",
      "source": [
        "\n",
        "df1=df.loc[df[\"type\"]==\"Movie\"]\n",
        "df1"
      ],
      "metadata": {
        "id": "BZP09FaKW7d4"
      },
      "execution_count": null,
      "outputs": []
    },
    {
      "cell_type": "code",
      "source": [
        "df_new=df1.groupby(\"week\")[\"title\"].nunique().sort_values(ascending=False).reset_index()\n",
        "df_new"
      ],
      "metadata": {
        "id": "pCZeuVeK8rlo"
      },
      "execution_count": null,
      "outputs": []
    },
    {
      "cell_type": "code",
      "source": [
        "sns.scatterplot(x='week', y='title', data=df_new)\n",
        "plt.show()"
      ],
      "metadata": {
        "id": "ZWZSGrSaEMDV"
      },
      "execution_count": null,
      "outputs": []
    },
    {
      "cell_type": "markdown",
      "source": [
        "## Insight-Most no. of movie releases in the first week and suddenly goes up in the 44th week"
      ],
      "metadata": {
        "id": "_5rDl_RtE9RP"
      }
    },
    {
      "cell_type": "code",
      "source": [
        "df2=df.loc[df[\"type\"]==\"TV Show\"]\n",
        "df2"
      ],
      "metadata": {
        "id": "Vgnda7p8CxO8"
      },
      "execution_count": null,
      "outputs": []
    },
    {
      "cell_type": "code",
      "source": [
        "df1_new=df2.groupby(\"week\")[\"title\"].nunique().sort_values(ascending=False).reset_index()\n",
        "df1_new"
      ],
      "metadata": {
        "id": "Z4I6FI74C5tR"
      },
      "execution_count": null,
      "outputs": []
    },
    {
      "cell_type": "code",
      "source": [
        "sns.scatterplot(x='week', y='title', data=df1_new,color=\"red\")\n",
        "plt.show()"
      ],
      "metadata": {
        "id": "w0QbjiCQBHfp"
      },
      "execution_count": null,
      "outputs": []
    },
    {
      "cell_type": "markdown",
      "source": [
        "# On the contrary, the best week to release a TV show is between 20th week to 30th week\n"
      ],
      "metadata": {
        "id": "9sGI_q9EFhd4"
      }
    },
    {
      "cell_type": "code",
      "source": [
        "#b. Find which is the best month to release the Tv-show or the movie. Do the analysis separately for Tv-shows and Movies\n"
      ],
      "metadata": {
        "id": "6xiMqshEvdOy"
      },
      "execution_count": null,
      "outputs": []
    },
    {
      "cell_type": "code",
      "source": [
        "df[\"month\"]=df[\"date_added\"].dt.month\n",
        "df.head(2)"
      ],
      "metadata": {
        "id": "SVNQrriqXQUa"
      },
      "execution_count": null,
      "outputs": []
    },
    {
      "cell_type": "code",
      "source": [
        "df2=df.loc[df[\"type\"]==\"Movie\"]\n",
        "df2"
      ],
      "metadata": {
        "id": "L71RGBmqIays"
      },
      "execution_count": null,
      "outputs": []
    },
    {
      "cell_type": "code",
      "source": [
        "df_new=df2.groupby(\"month\")[\"title\"].nunique().sort_values(ascending=False).reset_index()\n",
        "df_new"
      ],
      "metadata": {
        "id": "n0HiAerdGn1u"
      },
      "execution_count": null,
      "outputs": []
    },
    {
      "cell_type": "code",
      "source": [
        "sns.scatterplot(x='month', y='title', data=df_new)\n",
        "plt.show()\n"
      ],
      "metadata": {
        "id": "rfa9gPNOXoe9"
      },
      "execution_count": null,
      "outputs": []
    },
    {
      "cell_type": "markdown",
      "source": [
        "## Insight-Most no of movies are released in the 7th month"
      ],
      "metadata": {
        "id": "N97C6yvNHTMx"
      }
    },
    {
      "cell_type": "code",
      "source": [
        "df2=df.loc[df[\"type\"]==\"TV Show\"]\n",
        "df2"
      ],
      "metadata": {
        "id": "DtlsVTZyI7Ql"
      },
      "execution_count": null,
      "outputs": []
    },
    {
      "cell_type": "code",
      "source": [
        "df1_new=df2.groupby(\"month\")[\"title\"].nunique().sort_values(ascending=False).reset_index()\n",
        "df1_new"
      ],
      "metadata": {
        "id": "aecDKRZaYH9I"
      },
      "execution_count": null,
      "outputs": []
    },
    {
      "cell_type": "code",
      "source": [
        "sns.scatterplot(x='month', y='title', data=df1_new,color=\"orange\")\n",
        "plt.show()\n"
      ],
      "metadata": {
        "id": "pJxH68y3IKvf"
      },
      "execution_count": null,
      "outputs": []
    },
    {
      "cell_type": "markdown",
      "source": [
        "## Insight-MAx no of TV SHows release in the 12th month"
      ],
      "metadata": {
        "id": "mjRFZMK8JjxX"
      }
    },
    {
      "cell_type": "code",
      "source": [
        "#4. Analysis of actors/directors of different types of shows/movies.\n",
        "#a. Identify the top 10 actors who have appeared in most movies or TV shows\n",
        "\n",
        "df_new=df.groupby(\"cast_split\")[\"title\"].nunique().sort_values(ascending=False).reset_index().head(10)\n",
        "print(df_new)\n",
        "\n"
      ],
      "metadata": {
        "id": "rhs2de1t2kC2"
      },
      "execution_count": null,
      "outputs": []
    },
    {
      "cell_type": "code",
      "source": [
        "\n",
        "sns.barplot(x=\"cast_split\",y=\"title\",data=df_new)\n",
        "plt.title(\"Top 10 actor who have appeared in most movies/TV shows\")\n",
        "\n",
        "plt.xticks(rotation=90,fontsize=10)\n",
        "plt.show()\n",
        "\n"
      ],
      "metadata": {
        "id": "Rph_LsQh3c_T"
      },
      "execution_count": null,
      "outputs": []
    },
    {
      "cell_type": "markdown",
      "source": [
        "## If ignoring null values, Anupam kher,SRK, Julie Tejwani are among the actors who wppeared in most no of movies/TV Shows"
      ],
      "metadata": {
        "id": "nTZ2JnWbLtsN"
      }
    },
    {
      "cell_type": "code",
      "source": [
        "#b. Identify the top 10 directors who have appeared in most movies or TV shows\n",
        "\n",
        "df_new=df.groupby(\"director\")[\"title\"].nunique().sort_values(ascending=False).reset_index().head(10)\n",
        "print(df_new)\n"
      ],
      "metadata": {
        "id": "eTNnV8Ml07zS"
      },
      "execution_count": null,
      "outputs": []
    },
    {
      "cell_type": "code",
      "source": [
        "sns.barplot(x=\"director\",y=\"title\",data=df_new)\n",
        "plt.title(\"Top 10 directors who have appeared in most movies/TV shows\")\n",
        "\n",
        "plt.xticks(rotation=90,fontsize=10)\n",
        "plt.show()"
      ],
      "metadata": {
        "id": "sPTVpV232Hxw"
      },
      "execution_count": null,
      "outputs": []
    },
    {
      "cell_type": "markdown",
      "source": [
        "## If ignoring null values, Rajiv Chilaka,Marcus Raboy are among the directors who has directed the most no of movies/TV Shows"
      ],
      "metadata": {
        "id": "om8IR1dFMVLy"
      }
    },
    {
      "cell_type": "code",
      "source": [
        "df[\"listed_in_split\"]   #filter with movies"
      ],
      "metadata": {
        "id": "wWbSQ-pjUrVe"
      },
      "execution_count": null,
      "outputs": []
    },
    {
      "cell_type": "code",
      "source": [
        "#5. Which genre movies are more popular or produced more\n",
        "\n",
        "from wordcloud import WordCloud\n",
        "df2=df.loc[df[\"type\"]=='Movie']\n",
        "df2"
      ],
      "metadata": {
        "id": "in95v00W5Scm"
      },
      "execution_count": null,
      "outputs": []
    },
    {
      "cell_type": "code",
      "source": [
        "\n",
        "text = \" \".join(df2.listed_in_split)\n",
        "word_cloud = WordCloud(collocations = False, background_color = 'white').generate(text)\n",
        "plt.imshow(word_cloud, interpolation='bilinear')\n",
        "plt.axis(\"off\")\n",
        "plt.show()"
      ],
      "metadata": {
        "id": "LWd-aP2qSrAh"
      },
      "execution_count": null,
      "outputs": []
    },
    {
      "cell_type": "markdown",
      "source": [
        "# Insight-From the genre,International movies, Dramas, Adventure are among the movies type which has most no. of content"
      ],
      "metadata": {
        "id": "MwXfHJ2e3Vrh"
      }
    },
    {
      "cell_type": "code",
      "source": [
        "#6. Find After how many days the movie will be added to Netflix after the release of the movie\n",
        " #(you can consider the recent past data)\n",
        "\n",
        "df.head(2)\n"
      ],
      "metadata": {
        "id": "rS2OZxC5T1Z1"
      },
      "execution_count": null,
      "outputs": []
    },
    {
      "cell_type": "code",
      "source": [
        "df.info()"
      ],
      "metadata": {
        "id": "Q_K-CrQshfoD"
      },
      "execution_count": null,
      "outputs": []
    },
    {
      "cell_type": "code",
      "source": [
        "df[\"release_year\"] = df['release_year'].astype(str) +\"-01-01\"\n",
        "df.head(2)"
      ],
      "metadata": {
        "id": "IazrMWDciOGb"
      },
      "execution_count": null,
      "outputs": []
    },
    {
      "cell_type": "code",
      "source": [
        "df.info()"
      ],
      "metadata": {
        "id": "-8Gok1RraXL7"
      },
      "execution_count": null,
      "outputs": []
    },
    {
      "cell_type": "code",
      "source": [
        "df[\"release_year\"]=pd.to_datetime(df[\"release_year\"])"
      ],
      "metadata": {
        "id": "mzZU1Q_yiSRz"
      },
      "execution_count": null,
      "outputs": []
    },
    {
      "cell_type": "code",
      "source": [
        "df.info()"
      ],
      "metadata": {
        "id": "0zXXGTILiybj"
      },
      "execution_count": null,
      "outputs": []
    },
    {
      "cell_type": "code",
      "source": [
        "df[\"date_diff\"]=df[\"date_added\"]-df[\"release_year\"]"
      ],
      "metadata": {
        "id": "azHC5tCqDPX9"
      },
      "execution_count": null,
      "outputs": []
    },
    {
      "cell_type": "code",
      "source": [
        "df.head()"
      ],
      "metadata": {
        "id": "e3ZfgvgnkQNH"
      },
      "execution_count": null,
      "outputs": []
    },
    {
      "cell_type": "code",
      "source": [
        "df[\"date_diff\"].mode()"
      ],
      "metadata": {
        "id": "OcncJE2WkRx9"
      },
      "execution_count": null,
      "outputs": []
    },
    {
      "cell_type": "markdown",
      "source": [
        "### Insight- 243 days are the best time to add content in netflix"
      ],
      "metadata": {
        "id": "BkPWQn5b4K-2"
      }
    },
    {
      "cell_type": "markdown",
      "source": [
        "Recommendation:\n",
        "\n",
        "\n",
        "It is evdent from the EDA on netflix dataset the the growth of the netflix over the past year is increasing as we move forward.\n",
        "Therefore we have a high chance seeing more films in netflix platform\n",
        "\n",
        "*   Highest releases as per country basis is in USA\n",
        "*   Dramas and International Movies are the most popular genre followed by documentries\n",
        "*   We can more no of content in every 243 days\n",
        "*   We can see more of international movies in genre\n",
        "\n",
        "\n",
        "\n",
        "\n",
        "\n",
        "\n",
        "\n"
      ],
      "metadata": {
        "id": "rbpKyXDs-Jmt"
      }
    },
    {
      "cell_type": "code",
      "source": [],
      "metadata": {
        "id": "gwF1QzGVkaAo"
      },
      "execution_count": null,
      "outputs": []
    }
  ]
}